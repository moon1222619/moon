{
  "nbformat": 4,
  "nbformat_minor": 0,
  "metadata": {
    "colab": {
      "provenance": []
    },
    "kernelspec": {
      "name": "python3",
      "display_name": "Python 3"
    },
    "language_info": {
      "name": "python"
    }
  },
  "cells": [
    {
      "cell_type": "markdown",
      "source": [
        "開始 -> 選擇出發城市 -> 初始化旅費為0 -> 初始化遊歷順序為空 -> 初始化已遊歷城市為空集合 -> 初始化剩餘城市為所有城市集合 -> 迴圈開始\n",
        "\n",
        "    如果剩餘城市為空集合，跳出迴圈，遊歷完成\n",
        "    \n",
        "    計算目前位置到剩餘城市集合中每個城市的距離\n",
        "    \n",
        "    找出距離最短的城市，將其加入已遊歷城市集合中\n",
        "    \n",
        "    更新旅費，加上目前位置到該城市的油錢以及該城市的食宿費用\n",
        "    \n",
        "    更新目前位置為該城市\n",
        "    \n",
        "    從剩餘城市集合中移除該城市\n",
        "    \n",
        "    將該城市加入遊歷順序中\n",
        "    \n",
        "迴圈結束 -> 列印遊歷順序 -> 列印總旅費 -> 結束\n"
      ],
      "metadata": {
        "id": "t4qR88whBewa"
      }
    },
    {
      "cell_type": "code",
      "source": [
        "import math\n",
        "\n",
        "class City:\n",
        "    def __init__(self, name, x, y, cost):\n",
        "        self.name = name\n",
        "        self.x = x\n",
        "        self.y = y\n",
        "        self.cost = cost\n",
        "\n",
        "def calculate_discounted_cost(previous_city, current_city):\n",
        "    if previous_city == None or previous_city.name in ['C', 'G']:\n",
        "        return current_city.cost\n",
        "    return 0.8 * current_city.cost\n",
        "\n",
        "def calculate_distance(city1, city2):\n",
        "    return math.sqrt((city2.x - city1.x) ** 2 + (city2.y - city1.y) ** 2)\n",
        "\n",
        "def find_cheapest_travel_plan(start_city, cities):\n",
        "    remaining_cities = cities.copy()\n",
        "    current_city = start_city\n",
        "    total_cost = 0\n",
        "    travel_order = []\n",
        "\n",
        "    while remaining_cities:\n",
        "        min_distance = float('inf')\n",
        "        next_city = None\n",
        "\n",
        "        for city in remaining_cities:\n",
        "            distance = calculate_distance(current_city, city)\n",
        "            if distance < min_distance:\n",
        "                min_distance = distance\n",
        "                next_city = city\n",
        "\n",
        "        cost = calculate_discounted_cost(current_city, next_city)\n",
        "        total_cost += min_distance + cost\n",
        "        current_city = next_city\n",
        "        remaining_cities.remove(next_city)\n",
        "        travel_order.append(next_city.name)\n",
        "\n",
        "    return travel_order, total_cost\n",
        "\n",
        "# 建立城市物件\n",
        "city_A = City('A', 0, 0, 2000)\n",
        "city_B = City('B', 0, 120, 2400)\n",
        "city_C = City('C', 30, 100, 2400)\n",
        "city_D = City('D', 80, 0, 1600)\n",
        "city_E = City('E', 45, 10, 1500)\n",
        "city_F = City('F', 90, 160, 2200)\n",
        "city_G = City('G', 120, 200, 1200)\n",
        "\n",
        "# 將城市加入列表\n",
        "cities = [city_A, city_B, city_C, city_D, city_E, city_F, city_G]\n",
        "\n",
        "# 選擇出發城市\n",
        "start_city = city_A\n",
        "\n",
        "# 尋找最便宜的旅遊方案\n",
        "travel_order, total_cost = find_cheapest_travel_plan(start_city, cities)\n",
        "\n",
        "# 列印遊歷順序和總旅費\n",
        "print(\"遊歷順序:\", travel_order)\n",
        "print(\"總旅費:\", total_cost)\n"
      ],
      "metadata": {
        "colab": {
          "base_uri": "https://localhost:8080/"
        },
        "id": "0aqVHGJfBcey",
        "outputId": "f5c18bda-106d-484d-fc87-3a99305163fd"
      },
      "execution_count": null,
      "outputs": [
        {
          "output_type": "stream",
          "name": "stdout",
          "text": [
            "遊歷順序: ['A', 'E', 'D', 'C', 'B', 'F', 'G']\n",
            "總旅費: 11498.845761380458\n"
          ]
        }
      ]
    }
  ]
}